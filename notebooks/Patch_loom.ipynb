{
 "cells": [
  {
   "cell_type": "code",
   "execution_count": 79,
   "metadata": {},
   "outputs": [
    {
     "name": "stderr",
     "output_type": "stream",
     "text": [
      "2018-06-11 10:05:17,479 DEBUG: backend module://ipykernel.pylab.backend_inline version unknown\n"
     ]
    }
   ],
   "source": [
    "%matplotlib inline\n",
    "import os\n",
    "import loompy\n",
    "import logging\n",
    "import pandas as pd\n",
    "import numpy as np\n",
    "import cytograph as cg\n",
    "from sklearn.preprocessing import LabelEncoder\n",
    "from sklearn.svm import SVC\n",
    "from sklearn.metrics import classification_report\n",
    "from sklearn.model_selection import train_test_split\n",
    "from sklearn.neighbors import *\n",
    "from sklearn.metrics.pairwise import cosine_distances\n",
    "import numpy_groupies as npg\n",
    "import matplotlib.pyplot as plt\n",
    "import pandas as pd\n",
    "from slugify import slugify"
   ]
  },
  {
   "cell_type": "code",
   "execution_count": 125,
   "metadata": {},
   "outputs": [],
   "source": [
    "d = \"/Users/stelin/code/mousebrain.org/_taxonomy/\"\n",
    "\n",
    "with loompy.connect(\"/Users/stelin/build_20171205/L5_All.agg.loom\") as ds:\n",
    "    for r1 in np.unique(ds.ca.TaxonomyRank1):\n",
    "        fname = \"r1_\" + slugify(r1,to_lower=True) + \".md\"\n",
    "        with open(d + fname, \"w\") as f:\n",
    "            f.write(\"---\\n\")\n",
    "            f.write(f\"Name: '{r1}'\\n\")\n",
    "            f.write(f\"Slug: r1_{slugify(r1,to_lower=True)}\\n\")\n",
    "            indices = ds.ca.TaxonomyRank1 == r1\n",
    "            f.write(f\"NCells: {indices.sum()}\\n\")\n",
    "            f.write(\"CellTypes: [\")\n",
    "            temp = []\n",
    "            for i in np.where(indices)[0]:\n",
    "                temp.append(f\"{{LeafOrder: {ds.ca.LeafOrder[i]}, Name: '{ds.ca.ClusterName[i]}',Desc: '{ds.ca.Description[i]}'}}\")\n",
    "            f.write(\",\".join(temp))\n",
    "            f.write(\"]\\n\")\n",
    "            f.write(\"Parent: []\\n\")\n",
    "            temp = []\n",
    "            f.write(\"Siblings: [\")\n",
    "            for r2 in np.unique(ds.ca.TaxonomyRank1):\n",
    "                temp.append(f\"{{Name: '{r2}', Slug: r1_{slugify(r2,to_lower=True)}}}\")\n",
    "            f.write(\",\".join(temp))\n",
    "            f.write(\"]\\n\")\n",
    "            temp = []\n",
    "            f.write(\"Children: [\")\n",
    "            for r2 in np.unique(ds.ca.TaxonomyRank2[indices]):\n",
    "                temp.append(f\"{{Name: '{r2}', Slug: r2_{slugify(r2,to_lower=True)}}}\")\n",
    "            f.write(\",\".join(temp))\n",
    "            f.write(\"]\\n\")                \n",
    "            f.write(f\"LoomFile: '{slugify(r1, to_lower=True, capitalize=True, separator='_')}'\\n\")\n",
    "            f.write(\"layout: taxonomy\\n\")\n",
    "            f.write(\"title: Taxonomy\\n\")\n",
    "            f.write(\"---\")\n",
    "\n",
    "    for r1 in np.unique(ds.ca.TaxonomyRank2):\n",
    "        fname = \"r2_\" + slugify(r1,to_lower=True) + \".md\"\n",
    "        with open(d + fname, \"w\") as f:\n",
    "            f.write(\"---\\n\")\n",
    "            f.write(f\"Name: '{r1}'\\n\")\n",
    "            f.write(f\"Slug: r2_{slugify(r1,to_lower=True)}\\n\")\n",
    "            indices = ds.ca.TaxonomyRank2 == r1\n",
    "            f.write(f\"NCells: {indices.sum()}\\n\")\n",
    "            f.write(\"CellTypes: [\")\n",
    "            temp = []\n",
    "            for i in np.where(indices)[0]:\n",
    "                temp.append(f\"{{LeafOrder: {ds.ca.LeafOrder[i]}, Name: '{ds.ca.ClusterName[i]}',Desc: '{ds.ca.Description[i]}'}}\")\n",
    "            f.write(\",\".join(temp))\n",
    "            f.write(\"]\\n\")\n",
    "            parent = [ds.ca.TaxonomyRank1[ds.ca.TaxonomyRank2 == r1]][0][0]\n",
    "            f.write(f\"Parent: {{Name: '{parent}', Slug: r1_{slugify(parent, to_lower=True)}}}\\n\")\n",
    "            temp = []\n",
    "            f.write(\"Siblings: [\")\n",
    "            for r2 in np.unique(ds.ca.TaxonomyRank2):\n",
    "                temp.append(f\"{{Name: '{r2}', Slug: r2_{slugify(r2,to_lower=True)}}}\")\n",
    "            f.write(\",\".join(temp))\n",
    "            f.write(\"]\\n\")\n",
    "            temp = []\n",
    "            f.write(\"Children: [\")\n",
    "            for r2 in np.unique(ds.ca.TaxonomyRank3[indices]):\n",
    "                temp.append(f\"{{Name: '{r2}', Slug: r3_{slugify(r2,to_lower=True)}}}\")\n",
    "            f.write(\",\".join(temp))\n",
    "            f.write(\"]\\n\")                \n",
    "            f.write(f\"LoomFile: '{slugify(r1, to_lower=True, capitalize=True, separator='_')}'\\n\")\n",
    "            f.write(\"layout: taxonomy\\n\")\n",
    "            f.write(\"title: Taxonomy\\n\")\n",
    "            f.write(\"---\")\n",
    "\n",
    "    for r1 in np.unique(ds.ca.TaxonomyRank3):\n",
    "        fname = \"r3_\" + slugify(r1,to_lower=True) + \".md\"\n",
    "        with open(d + fname, \"w\") as f:\n",
    "            f.write(\"---\\n\")\n",
    "            f.write(f\"Name: '{r1}'\\n\")\n",
    "            f.write(f\"Slug: r3_{slugify(r1,to_lower=True)}\\n\")\n",
    "            indices = ds.ca.TaxonomyRank3 == r1\n",
    "            f.write(f\"NCells: {indices.sum()}\\n\")\n",
    "            f.write(\"CellTypes: [\")\n",
    "            temp = []\n",
    "            for i in np.where(indices)[0]:\n",
    "                temp.append(f\"{{LeafOrder: {ds.ca.LeafOrder[i]}, Name: '{ds.ca.ClusterName[i]}',Desc: '{ds.ca.Description[i]}'}}\")\n",
    "            f.write(\",\".join(temp))\n",
    "            f.write(\"]\\n\")\n",
    "            parent = [ds.ca.TaxonomyRank2[ds.ca.TaxonomyRank3 == r1]][0][0]\n",
    "            f.write(f\"Parent: {{Name: '{parent}', Slug: r2_{slugify(parent, to_lower=True)}}}\\n\")\n",
    "            temp = []\n",
    "            f.write(\"Siblings: [\")\n",
    "            for r2 in np.unique(ds.ca.TaxonomyRank3):\n",
    "                temp.append(f\"{{Name: '{r2}', Slug: r3_{slugify(r2,to_lower=True)}}}\")\n",
    "            f.write(\",\".join(temp))\n",
    "            f.write(\"]\\n\")\n",
    "            temp = []\n",
    "            f.write(\"Children: [\")\n",
    "            for r2 in np.unique(ds.ca.TaxonomyRank4[indices]):\n",
    "                temp.append(f\"{{Name: '{r2}', Slug: r4_{slugify(r2,to_lower=True)}}}\")\n",
    "            f.write(\",\".join(temp))\n",
    "            f.write(\"]\\n\")                \n",
    "            f.write(f\"LoomFile: '{slugify(r1, to_lower=True, capitalize=True, separator='_')}'\\n\")\n",
    "            f.write(\"layout: taxonomy\\n\")\n",
    "            f.write(\"title: Taxonomy\\n\")\n",
    "            f.write(\"---\")\n",
    "\n",
    "    for r1 in np.unique(ds.ca.TaxonomyRank4):\n",
    "        fname = \"r4_\" + slugify(r1,to_lower=True) + \".md\"\n",
    "        with open(d + fname, \"w\") as f:\n",
    "            f.write(\"---\\n\")\n",
    "            f.write(f\"Name: '{r1}'\\n\")\n",
    "            f.write(f\"Slug: r4_{slugify(r1,to_lower=True)}\\n\")\n",
    "            indices = ds.ca.TaxonomyRank4 == r1\n",
    "            f.write(f\"NCells: {indices.sum()}\\n\")\n",
    "            f.write(\"CellTypes: [\")\n",
    "            temp = []\n",
    "            for i in np.where(indices)[0]:\n",
    "                temp.append(f\"{{LeafOrder: {ds.ca.LeafOrder[i]}, Name: '{ds.ca.ClusterName[i]}',Desc: '{ds.ca.Description[i]}'}}\")\n",
    "            f.write(\",\".join(temp))\n",
    "            f.write(\"]\\n\")\n",
    "            parent = [ds.ca.TaxonomyRank3[ds.ca.TaxonomyRank4 == r1]][0][0]\n",
    "            f.write(f\"Parent: {{Name: '{parent}', Slug: r3_{slugify(parent, to_lower=True)}}}\\n\")\n",
    "            temp = []\n",
    "            f.write(f\"Siblings: [{{Name: '{r1}', Slug: r4_{slugify(r1, to_lower=True)}}}]\\n\")\n",
    "            temp = []\n",
    "            f.write(\"Children: []\\n\")\n",
    "            f.write(f\"LoomFile: '{slugify(r1, to_lower=True, capitalize=True, separator='_')}'\\n\")\n",
    "            f.write(\"layout: taxonomy\\n\")\n",
    "            f.write(\"title: Taxonomy\\n\")\n",
    "            f.write(\"---\")"
   ]
  },
  {
   "cell_type": "code",
   "execution_count": 123,
   "metadata": {},
   "outputs": [
    {
     "data": {
      "text/plain": [
       "'Vascular_smooth_muscle_cells'"
      ]
     },
     "execution_count": 123,
     "metadata": {},
     "output_type": "execute_result"
    }
   ],
   "source": [
    "slugify(r1, to_lower=True, capitalize=True, separator=\"_\")"
   ]
  },
  {
   "cell_type": "code",
   "execution_count": 70,
   "metadata": {},
   "outputs": [],
   "source": [
    "# Load gene annotations\n",
    "ga = pd.read_csv(\"./ensembl_mm10.tab\", sep='\\t')\n",
    "gmap = dict(zip(ga[\"Gene stable ID\"].values, [x.split(\"[\")[0] if type(x) is str else \"\" for x in ga[\"Gene description\"].values]))"
   ]
  },
  {
   "cell_type": "code",
   "execution_count": 15,
   "metadata": {},
   "outputs": [],
   "source": [
    "nt_styling = {\n",
    "    \"VGLUT1\": '<span class=\"badge badge-pill badge-primary\">VGLUT1</span>',\n",
    "    \"VGLUT2\": '<span class=\"badge badge-pill badge-primary\">VGLUT2</span>',\n",
    "    \"VGLUT3\": '<span class=\"badge badge-pill badge-primary\">VGLUT3</span>',\n",
    "    \"GABA\": '<span class=\"badge badge-pill badge-danger\">GABA</span>',\n",
    "    \"Glycine\": '<span class=\"badge badge-pill badge-danger\">Gly</span>',\n",
    "    \"Acetylcholine\": '<span class=\"badge badge-pill badge-warning\">ACh</span>',\n",
    "    \"Dopamine\": '<span class=\"badge badge-pill badge-success\">Dop</span>',\n",
    "    \"Noradrenaline\": '<span class=\"badge badge-pill badge-info\">Nor</span>',\n",
    "    \"Adrenaline\": '<span class=\"badge badge-pill badge-info\">Adr</span>',\n",
    "    \"Serotonin\": '<span class=\"badge badge-pill\" style=\"color: white; background: red\">Ser</span>'\n",
    "}"
   ]
  },
  {
   "cell_type": "code",
   "execution_count": 59,
   "metadata": {},
   "outputs": [],
   "source": [
    "# [ {gene: Mgp, score: 3775.6},{gene: Slc47a1, score: 2714.9}, {gene: Dapl1, score: 987.0}, {gene: Lypd2, score: 915.1},{gene: Thbd, score: 800.3} ]\n",
    "\n",
    "def enriched_yaml(ds, ix):\n",
    "    enriched = ds[\"enrichment\"][:, ix]\n",
    "    ordering = np.argsort(-enriched)[:5]\n",
    "    genes = ds.ra.Gene[ordering]\n",
    "    acc = ds.ra.Accession[ordering]\n",
    "    scores = enriched[ordering]\n",
    "    r = []\n",
    "    for ix in range(5):\n",
    "        r.append(f\"{{gene: {genes[ix]}, accession: {acc[ix]}, descr: '{gmap[acc[ix]] if acc[ix] in gmap else ''}', score: {scores[ix]:.1f} }}\")\n",
    "    return \"[ \" + \",\".join(r) + \" ]\""
   ]
  },
  {
   "cell_type": "code",
   "execution_count": 73,
   "metadata": {},
   "outputs": [],
   "source": [
    "# Export L5 for mousebrain.org\n",
    "d = \"/Users/stelin/code/mousebrain.org/_celltypes/\"\n",
    "with loompy.connect(\"/Users/stelin/build_20171205/L5_All.agg.loom\") as ds:\n",
    "    for ix in range(ds.shape[1]):\n",
    "        fname = ds.ca.ClusterName[ix] + \".md\"\n",
    "        with open(d + fname, \"w\") as f:\n",
    "            f.write(\"---\\n\")\n",
    "            for attr in [\"ClusterName\", \"LeafOrder\", \"Description\",\"Region\",\"Probable_location\", \"NCells\", \"Comment\", \"Developmental_compartment\",\"TaxonomyRank1\", \"TaxonomyRank2\", \"TaxonomyRank3\", \"TaxonomyRank4\"]:\n",
    "                f.write(f\"{attr}: '{ds.ca[attr][ix]}'\\n\")\n",
    "            f.write(f\"Neurotransmitter: '\")\n",
    "            for nt in nt_styling:\n",
    "                if nt in ds.ca.Neurotransmitter[ix]:\n",
    "                    f.write(nt_styling[nt])\n",
    "            f.write(\"'\\n\")\n",
    "            mg = []\n",
    "            for i,m in enumerate(ds.ca.MarkerGenes[ix].split(\" \")):\n",
    "                mg.append(m)\n",
    "                if ds.ca.MarkerSelectivity[ix].split(\" \")[i] == \"1\":\n",
    "                    break\n",
    "            f.write(f\"MarkerGenes: [{','.join(mg)}]\\n\")\n",
    "\n",
    "            f.write(\"layout: celltype\\n\")\n",
    "            f.write(f\"enriched: {enriched_yaml(ds, ix)}\\n\")\n",
    "            #print(enriched_yaml(ds, ix))\n",
    "            f.write(\"---\\n\")\n"
   ]
  },
  {
   "cell_type": "markdown",
   "metadata": {},
   "source": [
    "## Patch loom files with latest version of Table S3"
   ]
  },
  {
   "cell_type": "code",
   "execution_count": 2,
   "metadata": {},
   "outputs": [],
   "source": [
    "def patch_loom(f):\n",
    "    annf = \"/Users/stelin/Dropbox (Linnarsson Group)/linnarsson group/Manuscripts/Whole brain/Revision/Table S3.xlsx\"\n",
    "    anns = pd.read_excel(annf)\n",
    "    anns.fillna(\"\", inplace=True)\n",
    "\n",
    "    def make_array(values, order):\n",
    "        a = np.zeros(len(order), dtype=\"object\")\n",
    "        for ix, val in enumerate(values):\n",
    "            a[order == ix] = val\n",
    "        return np.array(a)\n",
    "\n",
    "    with loompy.connect(f) as ds:\n",
    "        if \"LeafOrder\" not in ds.ca.keys():\n",
    "            print(\"File lacks LeafOrder\")\n",
    "            return\n",
    "        ds.ca.LeafOrder = ds.ca.LeafOrder.astype('int')\n",
    "        #print(ds.ca.LeafOrder)\n",
    "        #print(make_array(anns[\"Cluster name\"], ds.ca.LeafOrder-1))\n",
    "        #print(np.unique(ds.ca.ClusterName[ds.ca.TaxonomyRank4 == \"Dentate gyrus granule neurons\"]))\n",
    "        #print(ds[ds.ra.Gene == \"Mpz\", :][:, ds.ca.LeafOrder == 240])\n",
    "        ds.ca.ClusterName = make_array(anns[\"Cluster name\"], ds.ca.LeafOrder.astype('int')-1)\n",
    "        ds.ca.Description = make_array(anns[\"Description\"], ds.ca.LeafOrder.astype('int')-1)\n",
    "        ds.ca.Comment = make_array(anns[\"Comment\"], ds.ca.LeafOrder.astype('int')-1)\n",
    "        ds.ca.Region = make_array(anns[\"Region\"], ds.ca.LeafOrder.astype('int')-1)\n",
    "        ds.ca.Developmental_compartment = make_array(anns[\"Developmental compartment\"], ds.ca.LeafOrder.astype('int')-1)\n",
    "        ds.ca.Neurotransmitter = make_array(anns[\"Neurotransmitter\"], ds.ca.LeafOrder.astype('int')-1)\n",
    "        ds.ca.Probable_location = make_array(anns[\"Probable location (manually assigned)\"], ds.ca.LeafOrder.astype('int')-1)\n",
    "        #ds.ca.Location_based_on = make_array(anns[\"Location based on\"], ds.ca.LeafOrder.astype('int')-1)"
   ]
  },
  {
   "cell_type": "code",
   "execution_count": 14,
   "metadata": {},
   "outputs": [],
   "source": [
    "patch_loom(\"/Users/stelin/build_20171205/L5_All.loom\")"
   ]
  },
  {
   "cell_type": "code",
   "execution_count": 3,
   "metadata": {},
   "outputs": [
    {
     "name": "stdout",
     "output_type": "stream",
     "text": [
      "L6_R3_(Oligodendrocytes).agg.loom\n",
      "L6_R4_(Peripheral sensory peptidergic neurons).loom\n",
      "L6_R3_(Astroependymal cells).loom\n",
      "L6_R2_(CNS neurons).loom\n",
      "L6_R4_(Satellite glia).loom\n",
      "L6_R4_(Cholinergic and monoaminergic neurons).agg.loom\n",
      "L6_R3_(Telencephalon interneurons).loom\n",
      "L6_R3_(Hindbrain neurons).loom\n",
      "L6_R1.loom\n",
      "L6_R4_(Vascular endothelial cells).agg.loom\n",
      "L6_R3_(Enteric neurons).loom\n",
      "L6_R4_(Peptidergic neurons).agg.loom\n",
      "L6_R4_(Telencephalon inhibitory interneurons).agg.loom\n",
      "L6_R4_(Vascular smooth muscle cells).agg.loom\n",
      "L6_R3_(Astroependymal cells).agg.loom\n",
      "L6_R2_(CNS glia).loom\n",
      "L6_R4_(Non-glutamatergic neuroblasts).agg.loom\n",
      "L6_R4_(Telencephalon projecting excitatory neurons).loom\n",
      "L6_R2_(PNS neurons).agg.loom\n",
      "L6_R4_(Sympathetic noradrenergic neurons).agg.loom\n",
      "L6_R4.agg.loom\n",
      "File lacks LeafOrder\n",
      "L6_R3_(Hindbrain neurons).agg.loom\n",
      "L6_R3_(Telencephalon projecting neurons).loom\n",
      "L6_R4_(Enteric neurons).loom\n",
      "L6_R2_(CNS neurons).agg.loom\n",
      "L6_R3_(Peripheral sensory neurons).agg.loom\n",
      "L6_R3_(Oligodendrocytes).loom\n",
      "L6_R4_(Olfactory inhibitory neurons).agg.loom\n",
      "L6_R4_(Oligodendrocyte precursor cells).loom\n",
      "L6_R4_(Glutamatergic neuroblasts).loom\n",
      "L6_R4_(Sympathetic noradrenergic neurons).loom\n",
      "L6_R3_(Peripheral sensory neurons).loom\n",
      "L6_R3_(Sympathetic neurons).loom\n",
      "L6_R4_(Perivascular macrophages).loom\n",
      "L6_R3_(Cerebellum neurons).agg.loom\n",
      "L6_R2_(Vascular cells).loom\n",
      "L6_R3_(Immature neural).loom\n",
      "L6_R4_(Dentate gyrus granule neurons).agg.loom\n",
      "L6_R4_(Enteric glia).loom\n",
      "L6_R2.agg.loom\n",
      "File lacks LeafOrder\n",
      "L6_R3.agg.loom\n",
      "File lacks LeafOrder\n",
      "L6_R3_(Cholinergic, monoaminergic and peptidergic neurons).loom\n",
      "L6_R4_(Cerebellum neurons).loom\n",
      "L6_R3_(Immune cells).agg.loom\n",
      "L6_R4_(Peripheral sensory non-peptidergic neurons).loom\n",
      "L6_R4_(Spinal cord excitatory neurons).loom\n",
      "L6_R4_(Vascular smooth muscle cells).loom\n",
      "L6_R4_(Vascular and leptomeningeal cells).loom\n",
      "L6_R2_(PNS neurons).loom\n",
      "L6_R4_(Non-glutamatergic neuroblasts).loom\n",
      "L6_R3_(Spinal cord neurons).loom\n",
      "L6_R2_(Vascular cells).agg.loom\n",
      "L6_R4_(Oligodendrocytes).loom\n",
      "L6_R4_(Di- and mesencephalon inhibitory neurons).loom\n",
      "L6_R3_(Telencephalon interneurons).agg.loom\n",
      "L6_R4_(Satellite glia).agg.loom\n",
      "L6_R4_(Dentate gyrus granule neurons).loom\n",
      "L6_R4_(Ependymal cells).loom\n",
      "L6_R4_(Olfactory ensheathing cells).loom\n",
      "L6_R4_(Peptidergic neurons).loom\n",
      "L6_R4_(Cerebellum neurons).agg.loom\n",
      "L6_R1_(Glia).loom\n",
      "L6_R3_(Cholinergic, monoaminergic and peptidergic neurons).agg.loom\n",
      "L6_R3_(Cerebellum neurons).loom\n",
      "L6_R4_(Glutamatergic neuroblasts).agg.loom\n",
      "L6_R4_(Subventricular zone radial glia-like cells).loom\n",
      "L6_R4_(Spinal cord excitatory neurons).agg.loom\n",
      "L6_R3_(Neural crest-like glia).loom\n",
      "L6_R4_(Peripheral sensory peptidergic neurons).agg.loom\n",
      "L6_R4_(Pericytes).loom\n",
      "L6_R3_(Enteric neurons).agg.loom\n",
      "L6_R4_(Astrocytes).agg.loom\n",
      "L6_R4_(Di- and mesencephalon excitatory neurons).loom\n",
      "L6_R4_(Microglia).loom\n",
      "L6_R4_(Enteric glia).agg.loom\n",
      "L6_R2_(CNS glia).agg.loom\n",
      "L6_R4_(Telencephalon projecting inhibitory neurons).agg.loom\n",
      "L6_R1_(Neurons).loom\n",
      "L6_R1_(Immune cells).agg.loom\n",
      "L6_R3_(Vascular cells).agg.loom\n",
      "L6_R3_(Spinal cord neurons).agg.loom\n",
      "L6_R3_(Neural crest-like glia).agg.loom\n",
      "L6_R4_(Spinal cord inhibitory neurons).loom\n",
      "L6_R4_(Ependymal cells).agg.loom\n",
      "L6_R4_(Peripheral sensory non-peptidergic neurons).agg.loom\n",
      "L6_R4_(Microglia).agg.loom\n",
      "L6_R4_(Astrocytes).loom\n",
      "L6_R4_(Spinal cord inhibitory neurons).agg.loom\n",
      "L6_R4_(Hindbrain neurons).loom\n",
      "L6_R1_(Neurons).agg.loom\n",
      "L6_R4_(Vascular endothelial cells).loom\n",
      "L6_R3_(Di- and mesencephalon neurons).agg.loom\n",
      "L6_R4_(Hindbrain neurons).agg.loom\n",
      "L6_R4_(Perivascular macrophages).agg.loom\n",
      "L6_R4_(Telencephalon projecting excitatory neurons).agg.loom\n",
      "L6_R4_(Oligodendrocytes).agg.loom\n",
      "L6_R4_(Enteric neurons).agg.loom\n",
      "L6_R3_(Telencephalon projecting neurons).agg.loom\n",
      "L6_R3_(Immature neural).agg.loom\n",
      "L6_R4.loom\n",
      "L6_R3_(Sympathetic neurons).agg.loom\n",
      "L6_R4_(Di- and mesencephalon excitatory neurons).agg.loom\n",
      "L6_R4_(Cholinergic and monoaminergic neurons).loom\n",
      "L6_R4_(Olfactory inhibitory neurons).loom\n",
      "L6_R3.loom\n",
      "L6_R3_(Di- and mesencephalon neurons).loom\n",
      "L6_R4_(Telencephalon inhibitory interneurons).loom\n",
      "L6_R2_(Neural crest-like glia).agg.loom\n",
      "L6_R1_(Vascular cells).agg.loom\n",
      "L6_R4_(Choroid epithelial cells).loom\n",
      "L6_R2_(Neural crest-like glia).loom\n",
      "L6_R1_(Glia).agg.loom\n",
      "L6_R3_(Vascular cells).loom\n",
      "L6_R4_(Telencephalon projecting inhibitory neurons).loom\n",
      "L6_R2_(Immune cells).agg.loom\n",
      "L6_R4_(Di- and mesencephalon inhibitory neurons).agg.loom\n",
      "L6_R2.loom\n",
      "L6_R1_(Immune cells).loom\n",
      "L6_R2_(Immune cells).loom\n",
      "L6_R1_(Vascular cells).loom\n",
      "L6_R3_(Immune cells).loom\n",
      "L6_R4_(Vascular and leptomeningeal cells).agg.loom\n",
      "L6_R4_(Pericytes).agg.loom\n",
      "L6_R1.agg.loom\n",
      "File lacks LeafOrder\n"
     ]
    }
   ],
   "source": [
    "d = \"/Users/stelin/build_20171205/\"\n",
    "for f in os.listdir(d):\n",
    "    if f.startswith(\"L6\") and f.endswith(\".loom\"):\n",
    "        print(f)\n",
    "        patch_loom(d + f)"
   ]
  },
  {
   "cell_type": "code",
   "execution_count": 78,
   "metadata": {},
   "outputs": [],
   "source": [
    "d = \"/Users/stelin/Dropbox (Linnarsson Group)/linnarsson group/Manuscripts/Whole brain/Figures/Figure_parts/spatial_correlation_dec31_2017/\"\n",
    "for f in os.listdir(d):\n",
    "    if f.endswith(\".png\"):\n",
    "        os.rename(d + f, d + f.split(\"(\")[0] + \".png\")"
   ]
  },
  {
   "cell_type": "markdown",
   "metadata": {},
   "source": [
    "## Replot all the heatmaps"
   ]
  },
  {
   "cell_type": "code",
   "execution_count": 137,
   "metadata": {},
   "outputs": [
    {
     "data": {
      "text/plain": [
       "'L6_Enteri'"
      ]
     },
     "execution_count": 137,
     "metadata": {},
     "output_type": "execute_result"
    }
   ],
   "source": [
    "\"L6_Enteric.loom\"[:-6]"
   ]
  },
  {
   "cell_type": "code",
   "execution_count": 12,
   "metadata": {},
   "outputs": [
    {
     "name": "stderr",
     "output_type": "stream",
     "text": [
      "2018-04-04 11:09:09,723 INFO: (27998, 565)\n"
     ]
    },
    {
     "name": "stdout",
     "output_type": "stream",
     "text": [
      "L6_R4_(Peripheral sensory peptidergic neurons).loom\n"
     ]
    },
    {
     "name": "stderr",
     "output_type": "stream",
     "text": [
      "2018-04-04 11:09:13,350 INFO: (27998, 22286)\n"
     ]
    },
    {
     "name": "stdout",
     "output_type": "stream",
     "text": [
      "L6_R3_(Astroependymal cells).loom\n"
     ]
    },
    {
     "name": "stderr",
     "output_type": "stream",
     "text": [
      "2018-04-04 11:09:20,542 INFO: (27998, 70968)\n"
     ]
    },
    {
     "name": "stdout",
     "output_type": "stream",
     "text": [
      "L6_R2_(CNS neurons).loom\n"
     ]
    },
    {
     "name": "stderr",
     "output_type": "stream",
     "text": [
      "2018-04-04 11:10:07,508 INFO: (27998, 684)\n"
     ]
    },
    {
     "name": "stdout",
     "output_type": "stream",
     "text": [
      "L6_R4_(Satellite glia).loom\n"
     ]
    },
    {
     "name": "stderr",
     "output_type": "stream",
     "text": [
      "2018-04-04 11:10:10,625 INFO: (27998, 13828)\n"
     ]
    },
    {
     "name": "stdout",
     "output_type": "stream",
     "text": [
      "L6_R3_(Telencephalon interneurons).loom\n"
     ]
    },
    {
     "name": "stderr",
     "output_type": "stream",
     "text": [
      "2018-04-04 11:10:18,197 INFO: (27998, 1144)\n"
     ]
    },
    {
     "name": "stdout",
     "output_type": "stream",
     "text": [
      "L6_R3_(Hindbrain neurons).loom\n"
     ]
    },
    {
     "name": "stderr",
     "output_type": "stream",
     "text": [
      "2018-04-04 11:10:22,268 INFO: (27998, 160796)\n"
     ]
    },
    {
     "name": "stdout",
     "output_type": "stream",
     "text": [
      "L6_R1.loom\n"
     ]
    },
    {
     "name": "stderr",
     "output_type": "stream",
     "text": [
      "2018-04-04 11:10:47,624 INFO: (27998, 1105)\n"
     ]
    },
    {
     "name": "stdout",
     "output_type": "stream",
     "text": [
      "L6_R3_(Enteric neurons).loom\n"
     ]
    },
    {
     "name": "stderr",
     "output_type": "stream",
     "text": [
      "2018-04-04 11:10:51,582 INFO: (27998, 52539)\n"
     ]
    },
    {
     "name": "stdout",
     "output_type": "stream",
     "text": [
      "L6_R2_(CNS glia).loom\n"
     ]
    },
    {
     "name": "stderr",
     "output_type": "stream",
     "text": [
      "2018-04-04 11:11:02,756 INFO: (27998, 18799)\n"
     ]
    },
    {
     "name": "stdout",
     "output_type": "stream",
     "text": [
      "L6_R4_(Telencephalon projecting excitatory neurons).loom\n"
     ]
    },
    {
     "name": "stderr",
     "output_type": "stream",
     "text": [
      "2018-04-04 11:11:09,418 INFO: (27998, 28858)\n"
     ]
    },
    {
     "name": "stdout",
     "output_type": "stream",
     "text": [
      "L6_R3_(Telencephalon projecting neurons).loom\n"
     ]
    },
    {
     "name": "stderr",
     "output_type": "stream",
     "text": [
      "2018-04-04 11:11:19,873 INFO: (27998, 1105)\n"
     ]
    },
    {
     "name": "stdout",
     "output_type": "stream",
     "text": [
      "L6_R4_(Enteric neurons).loom\n"
     ]
    },
    {
     "name": "stderr",
     "output_type": "stream",
     "text": [
      "2018-04-04 11:11:24,463 INFO: (27998, 30253)\n"
     ]
    },
    {
     "name": "stdout",
     "output_type": "stream",
     "text": [
      "L6_R3_(Oligodendrocytes).loom\n"
     ]
    },
    {
     "name": "stderr",
     "output_type": "stream",
     "text": [
      "2018-04-04 11:11:31,309 INFO: (27998, 644)\n"
     ]
    },
    {
     "name": "stdout",
     "output_type": "stream",
     "text": [
      "L6_R4_(Oligodendrocyte precursor cells).loom\n",
      "No .agg.loom file for L6_R4_(Oligodendrocyte precursor cells).loom\n",
      "L6_R4_(Glutamatergic neuroblasts).loom\n"
     ]
    },
    {
     "name": "stderr",
     "output_type": "stream",
     "text": [
      "2018-04-04 11:11:34,588 INFO: (27998, 796)\n"
     ]
    },
    {
     "name": "stdout",
     "output_type": "stream",
     "text": [
      "L6_R4_(Sympathetic noradrenergic neurons).loom\n"
     ]
    },
    {
     "name": "stderr",
     "output_type": "stream",
     "text": [
      "2018-04-04 11:11:39,382 INFO: (27998, 1580)\n"
     ]
    },
    {
     "name": "stdout",
     "output_type": "stream",
     "text": [
      "L6_R3_(Peripheral sensory neurons).loom\n"
     ]
    },
    {
     "name": "stderr",
     "output_type": "stream",
     "text": [
      "2018-04-04 11:11:43,927 INFO: (27998, 886)\n"
     ]
    },
    {
     "name": "stdout",
     "output_type": "stream",
     "text": [
      "L6_R3_(Sympathetic neurons).loom\n"
     ]
    },
    {
     "name": "stderr",
     "output_type": "stream",
     "text": [
      "2018-04-04 11:11:47,482 INFO: (27998, 2029)\n"
     ]
    },
    {
     "name": "stdout",
     "output_type": "stream",
     "text": [
      "L6_R4_(Perivascular macrophages).loom\n"
     ]
    },
    {
     "name": "stderr",
     "output_type": "stream",
     "text": [
      "2018-04-04 11:11:51,353 INFO: (27998, 12147)\n"
     ]
    },
    {
     "name": "stdout",
     "output_type": "stream",
     "text": [
      "L6_R2_(Vascular cells).loom\n"
     ]
    },
    {
     "name": "stderr",
     "output_type": "stream",
     "text": [
      "2018-04-04 11:11:57,656 INFO: (27998, 5466)\n"
     ]
    },
    {
     "name": "stdout",
     "output_type": "stream",
     "text": [
      "L6_R3_(Immature neural).loom\n"
     ]
    },
    {
     "name": "stderr",
     "output_type": "stream",
     "text": [
      "2018-04-04 11:12:05,212 INFO: (27998, 10535)\n"
     ]
    },
    {
     "name": "stdout",
     "output_type": "stream",
     "text": [
      "L6_R4_(Enteric glia).loom\n"
     ]
    },
    {
     "name": "stderr",
     "output_type": "stream",
     "text": [
      "2018-04-04 11:12:09,506 INFO: (27998, 3977)\n"
     ]
    },
    {
     "name": "stdout",
     "output_type": "stream",
     "text": [
      "L6_R3_(Cholinergic, monoaminergic and peptidergic neurons).loom\n"
     ]
    },
    {
     "name": "stderr",
     "output_type": "stream",
     "text": [
      "2018-04-04 11:12:15,924 INFO: (27998, 5292)\n"
     ]
    },
    {
     "name": "stdout",
     "output_type": "stream",
     "text": [
      "L6_R4_(Cerebellum neurons).loom\n"
     ]
    },
    {
     "name": "stderr",
     "output_type": "stream",
     "text": [
      "2018-04-04 11:12:19,920 INFO: (27998, 889)\n"
     ]
    },
    {
     "name": "stdout",
     "output_type": "stream",
     "text": [
      "L6_R4_(Peripheral sensory non-peptidergic neurons).loom\n"
     ]
    },
    {
     "name": "stderr",
     "output_type": "stream",
     "text": [
      "2018-04-04 11:12:23,267 INFO: (27998, 1166)\n"
     ]
    },
    {
     "name": "stdout",
     "output_type": "stream",
     "text": [
      "L6_R4_(Spinal cord excitatory neurons).loom\n"
     ]
    },
    {
     "name": "stderr",
     "output_type": "stream",
     "text": [
      "2018-04-04 11:12:28,517 INFO: (27998, 1628)\n"
     ]
    },
    {
     "name": "stdout",
     "output_type": "stream",
     "text": [
      "L6_R4_(Vascular smooth muscle cells).loom\n"
     ]
    },
    {
     "name": "stderr",
     "output_type": "stream",
     "text": [
      "2018-04-04 11:12:32,397 INFO: (27998, 1501)\n"
     ]
    },
    {
     "name": "stdout",
     "output_type": "stream",
     "text": [
      "L6_R4_(Vascular and leptomeningeal cells).loom\n"
     ]
    },
    {
     "name": "stderr",
     "output_type": "stream",
     "text": [
      "2018-04-04 11:12:36,235 INFO: (27998, 3571)\n"
     ]
    },
    {
     "name": "stdout",
     "output_type": "stream",
     "text": [
      "L6_R2_(PNS neurons).loom\n"
     ]
    },
    {
     "name": "stderr",
     "output_type": "stream",
     "text": [
      "2018-04-04 11:12:42,541 INFO: (27998, 4822)\n"
     ]
    },
    {
     "name": "stdout",
     "output_type": "stream",
     "text": [
      "L6_R4_(Non-glutamatergic neuroblasts).loom\n"
     ]
    },
    {
     "name": "stderr",
     "output_type": "stream",
     "text": [
      "2018-04-04 11:12:47,015 INFO: (27998, 1922)\n"
     ]
    },
    {
     "name": "stdout",
     "output_type": "stream",
     "text": [
      "L6_R3_(Spinal cord neurons).loom\n"
     ]
    },
    {
     "name": "stderr",
     "output_type": "stream",
     "text": [
      "2018-04-04 11:12:51,752 INFO: (27998, 30253)\n"
     ]
    },
    {
     "name": "stdout",
     "output_type": "stream",
     "text": [
      "L6_R4_(Oligodendrocytes).loom\n"
     ]
    },
    {
     "name": "stderr",
     "output_type": "stream",
     "text": [
      "2018-04-04 11:13:00,007 INFO: (27998, 4026)\n"
     ]
    },
    {
     "name": "stdout",
     "output_type": "stream",
     "text": [
      "L6_R4_(Di- and mesencephalon inhibitory neurons).loom\n"
     ]
    },
    {
     "name": "stderr",
     "output_type": "stream",
     "text": [
      "2018-04-04 11:13:04,594 INFO: (27998, 4368)\n"
     ]
    },
    {
     "name": "stdout",
     "output_type": "stream",
     "text": [
      "L6_R4_(Dentate gyrus granule neurons).loom\n"
     ]
    },
    {
     "name": "stderr",
     "output_type": "stream",
     "text": [
      "2018-04-04 11:13:08,321 INFO: (27998, 1257)\n"
     ]
    },
    {
     "name": "stdout",
     "output_type": "stream",
     "text": [
      "L6_R4_(Ependymal cells).loom\n"
     ]
    },
    {
     "name": "stderr",
     "output_type": "stream",
     "text": [
      "2018-04-04 11:13:12,176 INFO: (27998, 2906)\n"
     ]
    },
    {
     "name": "stdout",
     "output_type": "stream",
     "text": [
      "L6_R4_(Olfactory ensheathing cells).loom\n",
      "No .agg.loom file for L6_R4_(Olfactory ensheathing cells).loom\n",
      "L6_R4_(Peptidergic neurons).loom\n"
     ]
    },
    {
     "name": "stderr",
     "output_type": "stream",
     "text": [
      "2018-04-04 11:13:16,886 INFO: (27998, 66656)\n"
     ]
    },
    {
     "name": "stdout",
     "output_type": "stream",
     "text": [
      "L6_R1_(Glia).loom\n"
     ]
    },
    {
     "name": "stderr",
     "output_type": "stream",
     "text": [
      "2018-04-04 11:13:32,305 INFO: (27998, 5292)\n"
     ]
    },
    {
     "name": "stdout",
     "output_type": "stream",
     "text": [
      "L6_R3_(Cerebellum neurons).loom\n"
     ]
    },
    {
     "name": "stderr",
     "output_type": "stream",
     "text": [
      "2018-04-04 11:13:36,383 INFO: (27998, 14117)\n"
     ]
    },
    {
     "name": "stdout",
     "output_type": "stream",
     "text": [
      "L6_R4_(Subventricular zone radial glia-like cells).loom\n",
      "No .agg.loom file for L6_R4_(Subventricular zone radial glia-like cells).loom\n",
      "L6_R3_(Neural crest-like glia).loom\n"
     ]
    },
    {
     "name": "stderr",
     "output_type": "stream",
     "text": [
      "2018-04-04 11:13:43,666 INFO: (27998, 5213)\n"
     ]
    },
    {
     "name": "stdout",
     "output_type": "stream",
     "text": [
      "L6_R4_(Pericytes).loom\n"
     ]
    },
    {
     "name": "stderr",
     "output_type": "stream",
     "text": [
      "2018-04-04 11:13:50,257 INFO: (27998, 6455)\n"
     ]
    },
    {
     "name": "stdout",
     "output_type": "stream",
     "text": [
      "L6_R4_(Di- and mesencephalon excitatory neurons).loom\n"
     ]
    },
    {
     "name": "stderr",
     "output_type": "stream",
     "text": [
      "2018-04-04 11:13:55,993 INFO: (27998, 5425)\n"
     ]
    },
    {
     "name": "stdout",
     "output_type": "stream",
     "text": [
      "L6_R4_(Microglia).loom\n"
     ]
    },
    {
     "name": "stderr",
     "output_type": "stream",
     "text": [
      "2018-04-04 11:14:00,306 INFO: (27998, 74539)\n"
     ]
    },
    {
     "name": "stdout",
     "output_type": "stream",
     "text": [
      "L6_R1_(Neurons).loom\n"
     ]
    },
    {
     "name": "stderr",
     "output_type": "stream",
     "text": [
      "2018-04-04 11:15:03,149 INFO: (27998, 756)\n"
     ]
    },
    {
     "name": "stdout",
     "output_type": "stream",
     "text": [
      "L6_R4_(Spinal cord inhibitory neurons).loom\n"
     ]
    },
    {
     "name": "stderr",
     "output_type": "stream",
     "text": [
      "2018-04-04 11:15:07,001 INFO: (27998, 19377)\n"
     ]
    },
    {
     "name": "stdout",
     "output_type": "stream",
     "text": [
      "L6_R4_(Astrocytes).loom\n"
     ]
    },
    {
     "name": "stderr",
     "output_type": "stream",
     "text": [
      "2018-04-04 11:15:12,662 INFO: (27998, 1144)\n"
     ]
    },
    {
     "name": "stdout",
     "output_type": "stream",
     "text": [
      "L6_R4_(Hindbrain neurons).loom\n"
     ]
    },
    {
     "name": "stderr",
     "output_type": "stream",
     "text": [
      "2018-04-04 11:15:16,816 INFO: (27998, 3805)\n"
     ]
    },
    {
     "name": "stdout",
     "output_type": "stream",
     "text": [
      "L6_R4_(Vascular endothelial cells).loom\n"
     ]
    },
    {
     "name": "stderr",
     "output_type": "stream",
     "text": [
      "2018-04-04 11:15:21,033 INFO: (27998, 160796)\n"
     ]
    },
    {
     "name": "stdout",
     "output_type": "stream",
     "text": [
      "L6_R4.loom\n"
     ]
    },
    {
     "name": "stderr",
     "output_type": "stream",
     "text": [
      "2018-04-04 11:15:51,932 INFO: (27998, 1071)\n"
     ]
    },
    {
     "name": "stdout",
     "output_type": "stream",
     "text": [
      "L6_R4_(Cholinergic and monoaminergic neurons).loom\n"
     ]
    },
    {
     "name": "stderr",
     "output_type": "stream",
     "text": [
      "2018-04-04 11:15:56,775 INFO: (27998, 5191)\n"
     ]
    },
    {
     "name": "stdout",
     "output_type": "stream",
     "text": [
      "L6_R4_(Olfactory inhibitory neurons).loom\n"
     ]
    },
    {
     "name": "stderr",
     "output_type": "stream",
     "text": [
      "2018-04-04 11:16:01,015 INFO: (27998, 160796)\n"
     ]
    },
    {
     "name": "stdout",
     "output_type": "stream",
     "text": [
      "L6_R3.loom\n"
     ]
    },
    {
     "name": "stderr",
     "output_type": "stream",
     "text": [
      "2018-04-04 11:16:21,417 INFO: (27998, 10481)\n"
     ]
    },
    {
     "name": "stdout",
     "output_type": "stream",
     "text": [
      "L6_R3_(Di- and mesencephalon neurons).loom\n"
     ]
    },
    {
     "name": "stderr",
     "output_type": "stream",
     "text": [
      "2018-04-04 11:16:28,717 INFO: (27998, 8637)\n"
     ]
    },
    {
     "name": "stdout",
     "output_type": "stream",
     "text": [
      "L6_R4_(Telencephalon inhibitory interneurons).loom\n"
     ]
    },
    {
     "name": "stderr",
     "output_type": "stream",
     "text": [
      "2018-04-04 11:16:34,102 INFO: (27998, 14117)\n"
     ]
    },
    {
     "name": "stdout",
     "output_type": "stream",
     "text": [
      "L6_R4_(Choroid epithelial cells).loom\n",
      "No .agg.loom file for L6_R4_(Choroid epithelial cells).loom\n",
      "L6_R2_(Neural crest-like glia).loom\n"
     ]
    },
    {
     "name": "stderr",
     "output_type": "stream",
     "text": [
      "2018-04-04 11:16:41,106 INFO: (27998, 12147)\n"
     ]
    },
    {
     "name": "stdout",
     "output_type": "stream",
     "text": [
      "L6_R3_(Vascular cells).loom\n"
     ]
    },
    {
     "name": "stderr",
     "output_type": "stream",
     "text": [
      "2018-04-04 11:16:47,375 INFO: (27998, 5691)\n"
     ]
    },
    {
     "name": "stdout",
     "output_type": "stream",
     "text": [
      "L6_R4_(Telencephalon projecting inhibitory neurons).loom\n"
     ]
    },
    {
     "name": "stderr",
     "output_type": "stream",
     "text": [
      "2018-04-04 11:16:51,210 INFO: (27998, 160796)\n"
     ]
    },
    {
     "name": "stdout",
     "output_type": "stream",
     "text": [
      "L6_R2.loom\n"
     ]
    },
    {
     "name": "stderr",
     "output_type": "stream",
     "text": [
      "2018-04-04 11:17:10,129 INFO: (27998, 14908)\n"
     ]
    },
    {
     "name": "stdout",
     "output_type": "stream",
     "text": [
      "L6_R1_(Immune cells).loom\n"
     ]
    },
    {
     "name": "stderr",
     "output_type": "stream",
     "text": [
      "2018-04-04 11:17:15,766 INFO: (27998, 14908)\n"
     ]
    },
    {
     "name": "stdout",
     "output_type": "stream",
     "text": [
      "L6_R2_(Immune cells).loom\n"
     ]
    },
    {
     "name": "stderr",
     "output_type": "stream",
     "text": [
      "2018-04-04 11:17:25,217 INFO: (27998, 12147)\n"
     ]
    },
    {
     "name": "stdout",
     "output_type": "stream",
     "text": [
      "L6_R1_(Vascular cells).loom\n"
     ]
    },
    {
     "name": "stderr",
     "output_type": "stream",
     "text": [
      "2018-04-04 11:17:31,493 INFO: (27998, 14908)\n"
     ]
    },
    {
     "name": "stdout",
     "output_type": "stream",
     "text": [
      "L6_R3_(Immune cells).loom\n"
     ]
    }
   ],
   "source": [
    "d = \"/Users/stelin/build_20171205/\"\n",
    "for f in os.listdir(d):\n",
    "    if f.startswith(\"L6\") and f.endswith(\".loom\") and not f.endswith(\".agg.loom\"):\n",
    "        print(f)\n",
    "        if os.path.exists(d + f[:-5] + \".agg.loom\"):\n",
    "            hmf = d + f[:-5] + \"_exported/\" + f[:-5] + \"_heatmap.pdf\"\n",
    "            with loompy.connect(d + f) as ds:\n",
    "                with loompy.connect(d + f[:-5] + \".agg.loom\") as dsagg:\n",
    "                    cg.plot_markerheatmap(ds, dsagg, out_file=hmf)\n",
    "        else:\n",
    "            print(\"No .agg.loom file for \" + f)"
   ]
  },
  {
   "cell_type": "code",
   "execution_count": 17,
   "metadata": {},
   "outputs": [
    {
     "name": "stdout",
     "output_type": "stream",
     "text": [
      "L6_R4_(Peripheral sensory peptidergic neurons).loom\n",
      "L6_R4_(Satellite glia).loom\n",
      "L6_R4_(Telencephalon projecting excitatory neurons).loom\n",
      "L6_R4_(Enteric neurons).loom\n",
      "L6_R4_(Oligodendrocyte precursor cells).loom\n",
      "/Users/stelin/build_20171205/L6_R4_(Oligodendrocyte precursor cells)_exported/ not found.\n",
      "L6_R4_(Glutamatergic neuroblasts).loom\n",
      "L6_R4_(Sympathetic noradrenergic neurons).loom\n",
      "L6_R4_(Perivascular macrophages).loom\n",
      "L6_R4_(Enteric glia).loom\n",
      "L6_R4_(Cerebellum neurons).loom\n",
      "L6_R4_(Peripheral sensory non-peptidergic neurons).loom\n",
      "L6_R4_(Spinal cord excitatory neurons).loom\n",
      "L6_R4_(Vascular smooth muscle cells).loom\n",
      "L6_R4_(Vascular and leptomeningeal cells).loom\n",
      "L6_R4_(Non-glutamatergic neuroblasts).loom\n",
      "L6_R4_(Oligodendrocytes).loom\n",
      "L6_R4_(Di- and mesencephalon inhibitory neurons).loom\n",
      "L6_R4_(Dentate gyrus granule neurons).loom\n",
      "L6_R4_(Ependymal cells).loom\n",
      "L6_R4_(Olfactory ensheathing cells).loom\n",
      "/Users/stelin/build_20171205/L6_R4_(Olfactory ensheathing cells)_exported/ not found.\n",
      "L6_R4_(Peptidergic neurons).loom\n",
      "L6_R4_(Subventricular zone radial glia-like cells).loom\n",
      "/Users/stelin/build_20171205/L6_R4_(Subventricular zone radial glia-like cells)_exported/ not found.\n",
      "L6_R4_(Pericytes).loom\n",
      "L6_R4_(Di- and mesencephalon excitatory neurons).loom\n",
      "L6_R4_(Microglia).loom\n",
      "L6_R4_(Spinal cord inhibitory neurons).loom\n",
      "L6_R4_(Astrocytes).loom\n",
      "L6_R4_(Hindbrain neurons).loom\n",
      "L6_R4_(Vascular endothelial cells).loom\n",
      "L6_R4.loom\n",
      "L6_R4_(Cholinergic and monoaminergic neurons).loom\n",
      "L6_R4_(Olfactory inhibitory neurons).loom\n",
      "L6_R4_(Telencephalon inhibitory interneurons).loom\n",
      "L6_R4_(Choroid epithelial cells).loom\n",
      "/Users/stelin/build_20171205/L6_R4_(Choroid epithelial cells)_exported/ not found.\n",
      "L6_R4_(Telencephalon projecting inhibitory neurons).loom\n"
     ]
    }
   ],
   "source": [
    "d = \"/Users/stelin/build_20171205/\"\n",
    "for f in os.listdir(d):\n",
    "    if f.startswith(\"L6_R4\") and f.endswith(\".loom\") and not f.endswith(\".agg.loom\"):\n",
    "        print(f)\n",
    "        if not os.path.exists(d + f[:-5] + \"_exported/\"):\n",
    "            print(d + f[:-5] + \"_exported/ not found.\")\n",
    "            continue\n",
    "        hmf = d + f[:-5] + \"_exported/\" + f[:-5] + \"_pretty.png\"\n",
    "        with loompy.connect(d + f) as ds:\n",
    "            size = 100000 / ds.shape[1]\n",
    "            fig = plt.figure(figsize=(3,3))\n",
    "            ax = fig.add_axes([0, 0, 1, 1])\n",
    "            ax.axis('off')\n",
    "            ix = 0\n",
    "            colors = cg.colorize(np.unique(ds.ca.ClusterName))\n",
    "            for cluster in np.unique(ds.ca.ClusterName):\n",
    "                cells = ds.ca.ClusterName == cluster\n",
    "                plt.scatter(x=ds.ca._X[cells], y=ds.ca._Y[cells], s=size, c=colors[ix, :], marker='.', label=cluster, alpha=0.5, lw=0)\n",
    "                ix += 1\n",
    "            lgnd = ax.legend(fontsize=10, labelspacing=0.2, loc=\"upper left\", bbox_to_anchor=(1, 1),frameon=False)\n",
    "            for handle in lgnd.legendHandles:\n",
    "                handle.set_sizes([250])\n",
    "                handle.set_alpha(1)\n",
    "            plt.savefig(hmf, dpi=600, transparent=True, bbox_extra_artists=(lgnd,), bbox_inches='tight')\n",
    "            plt.close()        \n"
   ]
  },
  {
   "cell_type": "code",
   "execution_count": 13,
   "metadata": {},
   "outputs": [
    {
     "name": "stdout",
     "output_type": "stream",
     "text": [
      "['Cholinergic enteric neurons, VGLUT2']\n"
     ]
    }
   ],
   "source": [
    "with loompy.connect(\"/Users/stelin/build_20171205/L6_R3_(Enteric neurons).agg.loom\") as ds:\n",
    "    print(ds.ca.Description[ds.ca.ClusterName == \"ENT7\"])"
   ]
  },
  {
   "cell_type": "code",
   "execution_count": null,
   "metadata": {},
   "outputs": [],
   "source": []
  }
 ],
 "metadata": {
  "kernelspec": {
   "display_name": "Python 3",
   "language": "python",
   "name": "python3"
  },
  "language_info": {
   "codemirror_mode": {
    "name": "ipython",
    "version": 3
   },
   "file_extension": ".py",
   "mimetype": "text/x-python",
   "name": "python",
   "nbconvert_exporter": "python",
   "pygments_lexer": "ipython3",
   "version": "3.6.4"
  }
 },
 "nbformat": 4,
 "nbformat_minor": 2
}
